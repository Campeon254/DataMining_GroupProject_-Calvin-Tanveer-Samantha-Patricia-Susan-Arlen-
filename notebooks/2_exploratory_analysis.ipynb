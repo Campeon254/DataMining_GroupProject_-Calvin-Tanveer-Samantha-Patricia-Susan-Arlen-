version https://git-lfs.github.com/spec/v1
oid sha256:da3b0fa145044dddb4a0c58d0caf2976f7e6787e85a7381a84efa16e8eab7edb
size 1780778

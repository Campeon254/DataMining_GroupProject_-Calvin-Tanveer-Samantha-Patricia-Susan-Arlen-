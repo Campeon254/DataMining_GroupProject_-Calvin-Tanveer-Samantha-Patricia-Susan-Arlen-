version https://git-lfs.github.com/spec/v1
oid sha256:720d193f7049aca78e904a4271c97a77a0b28e255d6a98ec9bdb889b8d48c27e
size 1793615

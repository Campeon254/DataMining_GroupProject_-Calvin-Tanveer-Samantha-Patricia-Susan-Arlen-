version https://git-lfs.github.com/spec/v1
oid sha256:23c2ad64404e6fefdb11b3599927b092246a61853db1d0a9b140fb19ede9f6c0
size 262602

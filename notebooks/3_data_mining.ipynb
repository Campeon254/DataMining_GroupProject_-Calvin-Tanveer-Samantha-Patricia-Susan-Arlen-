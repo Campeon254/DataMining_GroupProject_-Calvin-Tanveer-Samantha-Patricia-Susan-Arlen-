{
 "cells": [
  {
   "cell_type": "markdown",
   "id": "3c1dc1b1",
   "metadata": {},
   "source": [
    "# Notebook 3: Data Mining Techniques\n",
    "### DSA 2040A Group Project - Lung Cancer Data Analysis\n",
    "### Team Members: Calvin, Tanveer, Samantha, Patricia, Susan and Arlen"
   ]
  },
  {
   "cell_type": "markdown",
   "id": "2b21c7ec",
   "metadata": {},
   "source": [
    "#### Libraries"
   ]
  },
  {
   "cell_type": "code",
   "execution_count": 7,
   "id": "39396c89",
   "metadata": {},
   "outputs": [
    {
     "ename": "ImportError",
     "evalue": "cannot import name '_get_container_adapter' from 'sklearn.utils._set_output' (/Users/hokage/anaconda3/lib/python3.11/site-packages/sklearn/utils/_set_output.py)",
     "output_type": "error",
     "traceback": [
      "\u001b[0;31m---------------------------------------------------------------------------\u001b[0m",
      "\u001b[0;31mImportError\u001b[0m                               Traceback (most recent call last)",
      "Cell \u001b[0;32mIn[7], line 13\u001b[0m\n\u001b[1;32m     11\u001b[0m \u001b[38;5;28;01mfrom\u001b[39;00m \u001b[38;5;21;01msklearn\u001b[39;00m\u001b[38;5;21;01m.\u001b[39;00m\u001b[38;5;21;01mmodel_selection\u001b[39;00m \u001b[38;5;28;01mimport\u001b[39;00m train_test_split, cross_val_score, GridSearchCV, RandomizedSearchCV\n\u001b[1;32m     12\u001b[0m \u001b[38;5;28;01mfrom\u001b[39;00m \u001b[38;5;21;01msklearn\u001b[39;00m\u001b[38;5;21;01m.\u001b[39;00m\u001b[38;5;21;01mpreprocessing\u001b[39;00m \u001b[38;5;28;01mimport\u001b[39;00m StandardScaler, OneHotEncoder\n\u001b[0;32m---> 13\u001b[0m \u001b[38;5;28;01mfrom\u001b[39;00m \u001b[38;5;21;01msklearn\u001b[39;00m\u001b[38;5;21;01m.\u001b[39;00m\u001b[38;5;21;01mcompose\u001b[39;00m \u001b[38;5;28;01mimport\u001b[39;00m ColumnTransformer\n\u001b[1;32m     14\u001b[0m \u001b[38;5;28;01mfrom\u001b[39;00m \u001b[38;5;21;01msklearn\u001b[39;00m\u001b[38;5;21;01m.\u001b[39;00m\u001b[38;5;21;01mpipeline\u001b[39;00m \u001b[38;5;28;01mimport\u001b[39;00m Pipeline\n\u001b[1;32m     15\u001b[0m \u001b[38;5;28;01mfrom\u001b[39;00m \u001b[38;5;21;01msklearn\u001b[39;00m\u001b[38;5;21;01m.\u001b[39;00m\u001b[38;5;21;01mmetrics\u001b[39;00m \u001b[38;5;28;01mimport\u001b[39;00m accuracy_score, precision_score, recall_score, f1_score, roc_auc_score, confusion_matrix, roc_curve, auc\n",
      "File \u001b[0;32m~/anaconda3/lib/python3.11/site-packages/sklearn/compose/__init__.py:11\u001b[0m\n\u001b[1;32m      1\u001b[0m \u001b[38;5;124;03m\"\"\"Meta-estimators for building composite models with transformers.\u001b[39;00m\n\u001b[1;32m      2\u001b[0m \n\u001b[1;32m      3\u001b[0m \u001b[38;5;124;03mIn addition to its current contents, this module will eventually be home to\u001b[39;00m\n\u001b[1;32m      4\u001b[0m \u001b[38;5;124;03mrefurbished versions of :class:`~sklearn.pipeline.Pipeline` and\u001b[39;00m\n\u001b[1;32m      5\u001b[0m \u001b[38;5;124;03m:class:`~sklearn.pipeline.FeatureUnion`.\u001b[39;00m\n\u001b[1;32m      6\u001b[0m \u001b[38;5;124;03m\"\"\"\u001b[39;00m\n\u001b[1;32m      8\u001b[0m \u001b[38;5;66;03m# Authors: The scikit-learn developers\u001b[39;00m\n\u001b[1;32m      9\u001b[0m \u001b[38;5;66;03m# SPDX-License-Identifier: BSD-3-Clause\u001b[39;00m\n\u001b[0;32m---> 11\u001b[0m \u001b[38;5;28;01mfrom\u001b[39;00m \u001b[38;5;21;01m.\u001b[39;00m\u001b[38;5;21;01m_column_transformer\u001b[39;00m \u001b[38;5;28;01mimport\u001b[39;00m (\n\u001b[1;32m     12\u001b[0m     ColumnTransformer,\n\u001b[1;32m     13\u001b[0m     make_column_selector,\n\u001b[1;32m     14\u001b[0m     make_column_transformer,\n\u001b[1;32m     15\u001b[0m )\n\u001b[1;32m     16\u001b[0m \u001b[38;5;28;01mfrom\u001b[39;00m \u001b[38;5;21;01m.\u001b[39;00m\u001b[38;5;21;01m_target\u001b[39;00m \u001b[38;5;28;01mimport\u001b[39;00m TransformedTargetRegressor\n\u001b[1;32m     18\u001b[0m __all__ \u001b[38;5;241m=\u001b[39m [\n\u001b[1;32m     19\u001b[0m     \u001b[38;5;124m\"\u001b[39m\u001b[38;5;124mColumnTransformer\u001b[39m\u001b[38;5;124m\"\u001b[39m,\n\u001b[1;32m     20\u001b[0m     \u001b[38;5;124m\"\u001b[39m\u001b[38;5;124mTransformedTargetRegressor\u001b[39m\u001b[38;5;124m\"\u001b[39m,\n\u001b[1;32m     21\u001b[0m     \u001b[38;5;124m\"\u001b[39m\u001b[38;5;124mmake_column_selector\u001b[39m\u001b[38;5;124m\"\u001b[39m,\n\u001b[1;32m     22\u001b[0m     \u001b[38;5;124m\"\u001b[39m\u001b[38;5;124mmake_column_transformer\u001b[39m\u001b[38;5;124m\"\u001b[39m,\n\u001b[1;32m     23\u001b[0m ]\n",
      "File \u001b[0;32m~/anaconda3/lib/python3.11/site-packages/sklearn/compose/_column_transformer.py:20\u001b[0m\n\u001b[1;32m     17\u001b[0m \u001b[38;5;28;01mfrom\u001b[39;00m \u001b[38;5;21;01mscipy\u001b[39;00m \u001b[38;5;28;01mimport\u001b[39;00m sparse\n\u001b[1;32m     19\u001b[0m \u001b[38;5;28;01mfrom\u001b[39;00m \u001b[38;5;21;01m.\u001b[39;00m\u001b[38;5;21;01m.\u001b[39;00m\u001b[38;5;21;01mbase\u001b[39;00m \u001b[38;5;28;01mimport\u001b[39;00m TransformerMixin, _fit_context, clone\n\u001b[0;32m---> 20\u001b[0m \u001b[38;5;28;01mfrom\u001b[39;00m \u001b[38;5;21;01m.\u001b[39;00m\u001b[38;5;21;01m.\u001b[39;00m\u001b[38;5;21;01mpipeline\u001b[39;00m \u001b[38;5;28;01mimport\u001b[39;00m _fit_transform_one, _name_estimators, _transform_one\n\u001b[1;32m     21\u001b[0m \u001b[38;5;28;01mfrom\u001b[39;00m \u001b[38;5;21;01m.\u001b[39;00m\u001b[38;5;21;01m.\u001b[39;00m\u001b[38;5;21;01mpreprocessing\u001b[39;00m \u001b[38;5;28;01mimport\u001b[39;00m FunctionTransformer\n\u001b[1;32m     22\u001b[0m \u001b[38;5;28;01mfrom\u001b[39;00m \u001b[38;5;21;01m.\u001b[39;00m\u001b[38;5;21;01m.\u001b[39;00m\u001b[38;5;21;01mutils\u001b[39;00m \u001b[38;5;28;01mimport\u001b[39;00m Bunch\n",
      "File \u001b[0;32m~/anaconda3/lib/python3.11/site-packages/sklearn/pipeline.py:22\u001b[0m\n\u001b[1;32m     20\u001b[0m \u001b[38;5;28;01mfrom\u001b[39;00m \u001b[38;5;21;01m.\u001b[39;00m\u001b[38;5;21;01mutils\u001b[39;00m\u001b[38;5;21;01m.\u001b[39;00m\u001b[38;5;21;01m_param_validation\u001b[39;00m \u001b[38;5;28;01mimport\u001b[39;00m HasMethods, Hidden\n\u001b[1;32m     21\u001b[0m \u001b[38;5;28;01mfrom\u001b[39;00m \u001b[38;5;21;01m.\u001b[39;00m\u001b[38;5;21;01mutils\u001b[39;00m\u001b[38;5;21;01m.\u001b[39;00m\u001b[38;5;21;01m_repr_html\u001b[39;00m\u001b[38;5;21;01m.\u001b[39;00m\u001b[38;5;21;01mestimator\u001b[39;00m \u001b[38;5;28;01mimport\u001b[39;00m _VisualBlock\n\u001b[0;32m---> 22\u001b[0m \u001b[38;5;28;01mfrom\u001b[39;00m \u001b[38;5;21;01m.\u001b[39;00m\u001b[38;5;21;01mutils\u001b[39;00m\u001b[38;5;21;01m.\u001b[39;00m\u001b[38;5;21;01m_set_output\u001b[39;00m \u001b[38;5;28;01mimport\u001b[39;00m (\n\u001b[1;32m     23\u001b[0m     _get_container_adapter,\n\u001b[1;32m     24\u001b[0m     _safe_set_output,\n\u001b[1;32m     25\u001b[0m )\n\u001b[1;32m     26\u001b[0m \u001b[38;5;28;01mfrom\u001b[39;00m \u001b[38;5;21;01m.\u001b[39;00m\u001b[38;5;21;01mutils\u001b[39;00m\u001b[38;5;21;01m.\u001b[39;00m\u001b[38;5;21;01m_tags\u001b[39;00m \u001b[38;5;28;01mimport\u001b[39;00m get_tags\n\u001b[1;32m     27\u001b[0m \u001b[38;5;28;01mfrom\u001b[39;00m \u001b[38;5;21;01m.\u001b[39;00m\u001b[38;5;21;01mutils\u001b[39;00m\u001b[38;5;21;01m.\u001b[39;00m\u001b[38;5;21;01m_user_interface\u001b[39;00m \u001b[38;5;28;01mimport\u001b[39;00m _print_elapsed_time\n",
      "\u001b[0;31mImportError\u001b[0m: cannot import name '_get_container_adapter' from 'sklearn.utils._set_output' (/Users/hokage/anaconda3/lib/python3.11/site-packages/sklearn/utils/_set_output.py)"
     ]
    }
   ],
   "source": [
    "import pandas as pd\n",
    "import numpy as np\n",
    "import matplotlib.pyplot as plt\n",
    "import seaborn as sns\n",
    "import warnings\n",
    "\n",
    "# Suppress warnings for cleaner output\n",
    "warnings.filterwarnings('ignore')\n",
    "\n",
    "# Scikit-learn for data mining\n",
    "from sklearn.model_selection import train_test_split, cross_val_score, GridSearchCV, RandomizedSearchCV\n",
    "from sklearn.preprocessing import StandardScaler, OneHotEncoder\n",
    "from sklearn.compose import ColumnTransformer\n",
    "from sklearn.pipeline import Pipeline\n",
    "from sklearn.metrics import accuracy_score, precision_score, recall_score, f1_score, roc_auc_score, confusion_matrix, roc_curve, auc\n",
    "\n",
    "# Classification Models\n",
    "from sklearn.linear_model import LogisticRegression\n",
    "from sklearn.tree import DecisionTreeClassifier\n",
    "from sklearn.ensemble import RandomForestClassifier, GradientBoostingClassifier\n",
    "from sklearn.svm import SVC\n",
    "from sklearn.neighbors import KNeighborsClassifier\n",
    "\n",
    "# For saving/loading models\n",
    "import joblib\n"
   ]
  },
  {
   "cell_type": "markdown",
   "id": "f8c91c5e",
   "metadata": {},
   "source": [
    "# Section 1: Load Cleaned Data"
   ]
  },
  {
   "cell_type": "code",
   "execution_count": null,
   "id": "89297179",
   "metadata": {},
   "outputs": [
    {
     "name": "stdout",
     "output_type": "stream",
     "text": [
      "Cleaned data loaded successfully from ../data/transformed.csv\n",
      "\n",
      "First 5 rows of cleaned data:\n",
      "   gender      country diagnosis_date cancer_stage  family_history  \\\n",
      "0  Female  Netherlands     2023-04-20    Stage III               1   \n",
      "1  Female      Hungary     2023-04-05    Stage III               1   \n",
      "2    Male   Luxembourg     2023-11-29      Stage I               0   \n",
      "3    Male        Italy     2023-01-02      Stage I               0   \n",
      "4  Female   Luxembourg     2023-12-24     Stage IV               0   \n",
      "\n",
      "   smoking_status treatment_type end_treatment_date  survived  \\\n",
      "0  Passive Smoker        Surgery         2024-06-17         1   \n",
      "1   Former Smoker       Combined         2024-04-09         0   \n",
      "2  Passive Smoker       Combined         2025-01-08         0   \n",
      "3    Never Smoked      Radiation         2024-12-27         0   \n",
      "4    Never Smoked        Surgery         2024-10-28         1   \n",
      "\n",
      "   treatment_duration  comorbidities_count age_group bmi_category  \\\n",
      "0                 424                    2     45-59        obese   \n",
      "1                 370                    2     60-74        obese   \n",
      "2                 406                    0     30-44       normal   \n",
      "3                 725                    1     45-59        obese   \n",
      "4                 309                    2     45-59        obese   \n",
      "\n",
      "  cholesterol_category  comorbidity_count  \n",
      "0                 High                  2  \n",
      "1                 High                  2  \n",
      "2            Desirable                  0  \n",
      "3                 High                  1  \n",
      "4                 High                  2  \n",
      "\n",
      "Cleaned Data Info:\n",
      "<class 'pandas.core.frame.DataFrame'>\n",
      "RangeIndex: 125749 entries, 0 to 125748\n",
      "Data columns (total 15 columns):\n",
      " #   Column                Non-Null Count   Dtype         \n",
      "---  ------                --------------   -----         \n",
      " 0   gender                125749 non-null  category      \n",
      " 1   country               125749 non-null  category      \n",
      " 2   diagnosis_date        125749 non-null  datetime64[ns]\n",
      " 3   cancer_stage          125749 non-null  category      \n",
      " 4   family_history        125749 non-null  int64         \n",
      " 5   smoking_status        125749 non-null  category      \n",
      " 6   treatment_type        125749 non-null  category      \n",
      " 7   end_treatment_date    125749 non-null  datetime64[ns]\n",
      " 8   survived              125749 non-null  int64         \n",
      " 9   treatment_duration    125749 non-null  int64         \n",
      " 10  comorbidities_count   125749 non-null  int64         \n",
      " 11  age_group             125749 non-null  category      \n",
      " 12  bmi_category          125749 non-null  category      \n",
      " 13  cholesterol_category  125749 non-null  category      \n",
      " 14  comorbidity_count     125749 non-null  int64         \n",
      "dtypes: category(8), datetime64[ns](2), int64(5)\n",
      "memory usage: 7.7 MB\n"
     ]
    }
   ],
   "source": [
    "CLEANED_DATA = '../data/transformed.csv' \n",
    "MODEL_SAVE_PATH = '../models/survival_predictor.pkl' \n",
    "\n",
    "\n",
    "df = pd.read_csv(CLEANED_DATA)\n",
    "print(f\"Cleaned data loaded successfully from {CLEANED_DATA}\")\n",
    "\n",
    "# Convert relevant columns to their appropriate types after loading from CSV\n",
    "if 'diagnosis_date' in df.columns:\n",
    "    df['diagnosis_date'] = pd.to_datetime(df['diagnosis_date'], errors='coerce')\n",
    "if 'end_treatment_date' in df.columns:\n",
    "    df['end_treatment_date'] = pd.to_datetime(df['end_treatment_date'], errors='coerce')\n",
    "\n",
    "# Convert string object columns to 'category' dtype for better memory usage and explicit handling\n",
    "categorical_cols_to_convert = ['gender', 'country', 'cancer_stage', 'smoking_status',\n",
    "                                'treatment_type', 'age_group', 'bmi_category', 'cholesterol_category']\n",
    "for col in categorical_cols_to_convert:\n",
    "    if col in df.columns and df[col].dtype == 'object':\n",
    "        df[col] = df[col].astype('category')\n",
    "# convert to 1 and 0(pseudo one hot encoding)\n",
    "if 'family_history' in df.columns and df['family_history'].dtype == 'object':\n",
    "        df['family_history'] = df['family_history'].map({'Yes': 1, 'No': 0}).astype(int)\n",
    "if 'survived' in df.columns and df['survived'].dtype != 'int64':\n",
    "        df['survived'] = df['survived'].astype(int)\n",
    "\n",
    "print(\"\\nFirst 5 rows of cleaned data:\")\n",
    "print(df.head())\n",
    "print(\"\\nCleaned Data Info:\")\n",
    "df.info()\n"
   ]
  },
  {
   "cell_type": "markdown",
   "id": "3fe7e96c",
   "metadata": {},
   "source": [
    "## 2. Data preprocessing\n",
    "- We are going to define target variabels and features\n",
    "- Filter out redundant columns\n",
    "- identify numerical and categorical features for preprocessing\n",
    "- "
   ]
  },
  {
   "cell_type": "code",
   "execution_count": null,
   "id": "b5ae8527",
   "metadata": {},
   "outputs": [
    {
     "ename": "ImportError",
     "evalue": "cannot import name '_get_container_adapter' from 'sklearn.utils._set_output' (/Users/hokage/anaconda3/lib/python3.11/site-packages/sklearn/utils/_set_output.py)",
     "output_type": "error",
     "traceback": [
      "\u001b[0;31m---------------------------------------------------------------------------\u001b[0m",
      "\u001b[0;31mImportError\u001b[0m                               Traceback (most recent call last)",
      "Cell \u001b[0;32mIn[5], line 1\u001b[0m\n\u001b[0;32m----> 1\u001b[0m \u001b[38;5;28;01mfrom\u001b[39;00m \u001b[38;5;21;01msklearn\u001b[39;00m\u001b[38;5;21;01m.\u001b[39;00m\u001b[38;5;21;01mpipeline\u001b[39;00m \u001b[38;5;28;01mimport\u001b[39;00m Pipeline\n\u001b[1;32m      3\u001b[0m \u001b[38;5;66;03m# Define target variable and features\u001b[39;00m\n\u001b[1;32m      4\u001b[0m TARGET \u001b[38;5;241m=\u001b[39m \u001b[38;5;124m'\u001b[39m\u001b[38;5;124msurvived\u001b[39m\u001b[38;5;124m'\u001b[39m\n",
      "File \u001b[0;32m~/anaconda3/lib/python3.11/site-packages/sklearn/pipeline.py:22\u001b[0m\n\u001b[1;32m     20\u001b[0m \u001b[38;5;28;01mfrom\u001b[39;00m \u001b[38;5;21;01m.\u001b[39;00m\u001b[38;5;21;01mutils\u001b[39;00m\u001b[38;5;21;01m.\u001b[39;00m\u001b[38;5;21;01m_param_validation\u001b[39;00m \u001b[38;5;28;01mimport\u001b[39;00m HasMethods, Hidden\n\u001b[1;32m     21\u001b[0m \u001b[38;5;28;01mfrom\u001b[39;00m \u001b[38;5;21;01m.\u001b[39;00m\u001b[38;5;21;01mutils\u001b[39;00m\u001b[38;5;21;01m.\u001b[39;00m\u001b[38;5;21;01m_repr_html\u001b[39;00m\u001b[38;5;21;01m.\u001b[39;00m\u001b[38;5;21;01mestimator\u001b[39;00m \u001b[38;5;28;01mimport\u001b[39;00m _VisualBlock\n\u001b[0;32m---> 22\u001b[0m \u001b[38;5;28;01mfrom\u001b[39;00m \u001b[38;5;21;01m.\u001b[39;00m\u001b[38;5;21;01mutils\u001b[39;00m\u001b[38;5;21;01m.\u001b[39;00m\u001b[38;5;21;01m_set_output\u001b[39;00m \u001b[38;5;28;01mimport\u001b[39;00m (\n\u001b[1;32m     23\u001b[0m     _get_container_adapter,\n\u001b[1;32m     24\u001b[0m     _safe_set_output,\n\u001b[1;32m     25\u001b[0m )\n\u001b[1;32m     26\u001b[0m \u001b[38;5;28;01mfrom\u001b[39;00m \u001b[38;5;21;01m.\u001b[39;00m\u001b[38;5;21;01mutils\u001b[39;00m\u001b[38;5;21;01m.\u001b[39;00m\u001b[38;5;21;01m_tags\u001b[39;00m \u001b[38;5;28;01mimport\u001b[39;00m get_tags\n\u001b[1;32m     27\u001b[0m \u001b[38;5;28;01mfrom\u001b[39;00m \u001b[38;5;21;01m.\u001b[39;00m\u001b[38;5;21;01mutils\u001b[39;00m\u001b[38;5;21;01m.\u001b[39;00m\u001b[38;5;21;01m_user_interface\u001b[39;00m \u001b[38;5;28;01mimport\u001b[39;00m _print_elapsed_time\n",
      "\u001b[0;31mImportError\u001b[0m: cannot import name '_get_container_adapter' from 'sklearn.utils._set_output' (/Users/hokage/anaconda3/lib/python3.11/site-packages/sklearn/utils/_set_output.py)"
     ]
    }
   ],
   "source": [
    "from sklearn.pipeline import Pipeline\n",
    "\n",
    "# Define target variable and features\n",
    "TARGET = 'survived'\n",
    "# Drop \n",
    "columns_to_drop = [TARGET, 'diagnosis_date', 'end_treatment_date', 'index', 'comorbidity_count']\n",
    "# Filter out columns that do not exist in the DataFrame\n",
    "columns_to_drop_existing = [col for col in columns_to_drop if col in df.columns]\n",
    "\n",
    "X = df.drop(columns=columns_to_drop_existing)\n",
    "y = df[TARGET]\n",
    "\n",
    "# Identify numerical and categorical features for preprocessing\n",
    "numerical_features = ['treatment_duration', 'comorbidities_count']\n",
    "# Filter numerical_features to ensure they exist in X\n",
    "numerical_features = [f for f in numerical_features if f in X.columns]\n",
    "\n",
    "# All original categorical columns that need one hot encoding\n",
    "categorical_features = ['gender', 'country', 'cancer_stage', 'smoking_status',\n",
    "                        'treatment_type', 'age_group', 'bmi_category', 'cholesterol_category']\n",
    "# Filter categorical_features to ensure they exist in X\n",
    "categorical_features = [f for f in categorical_features if f in X.columns]\n",
    "\n",
    "print(f\"\\nFeatures selected for modeling: {X.columns.tolist()}\")\n",
    "print(f\"Numerical Features for scaling: {numerical_features}\")\n",
    "print(f\"Categorical Features for One-Hot Encoding: {categorical_features}\")\n",
    "\n",
    "# Create preprocessing pipelines for numerical and categorical features\n",
    "numerical_transformer = Pipeline(steps=[('scaler', StandardScaler())])\n",
    "\n",
    "categorical_transformer = Pipeline(steps=[('onehot', OneHotEncoder(handle_unknown='ignore'))])\n",
    "\n",
    "# Create a preprocessor using ColumnTransformer\n",
    "preprocessor = ColumnTransformer(\n",
    "    transformers=[\n",
    "        ('num', numerical_transformer, numerical_features),\n",
    "        ('cat', categorical_transformer, categorical_features)\n",
    "    ],\n",
    "    remainder='passthrough' \n",
    ")\n"
   ]
  },
  {
   "cell_type": "markdown",
   "id": "427b9828",
   "metadata": {},
   "source": []
  }
 ],
 "metadata": {
  "kernelspec": {
   "display_name": "base",
   "language": "python",
   "name": "python3"
  },
  "language_info": {
   "codemirror_mode": {
    "name": "ipython",
    "version": 3
   },
   "file_extension": ".py",
   "mimetype": "text/x-python",
   "name": "python",
   "nbconvert_exporter": "python",
   "pygments_lexer": "ipython3",
   "version": "3.11.5"
  }
 },
 "nbformat": 4,
 "nbformat_minor": 5
}

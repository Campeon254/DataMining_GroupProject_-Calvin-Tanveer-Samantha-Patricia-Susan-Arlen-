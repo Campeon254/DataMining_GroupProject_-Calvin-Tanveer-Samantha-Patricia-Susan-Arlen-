version https://git-lfs.github.com/spec/v1
oid sha256:de49ea5bfad6b314c7217f86f08d659ccfa5b0739f56f30c6bcdf8f5e3671f50
size 269232

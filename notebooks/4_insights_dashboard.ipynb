{
 "cells": [
  {
   "cell_type": "markdown",
   "id": "a48d7ced",
   "metadata": {},
   "source": [
    "# Interactive Dashboard for Lung Cancer Survival Analysis\n",
    "### DSA 2040A Group Project - Data Mining and Visualization\n",
    "### Team Members: Calvin, Tanveer, Samantha, Patricia, Susan and Arlen"
   ]
  },
  {
   "cell_type": "markdown",
   "id": "512dc56a",
   "metadata": {},
   "source": [
    "## Import Required Libraries"
   ]
  },
  {
   "cell_type": "code",
   "execution_count": null,
   "id": "ee8503eb",
   "metadata": {},
   "outputs": [],
   "source": [
    "import pandas as pd\n",
    "import numpy as np\n",
    "import plotly.express as px\n",
    "import plotly.graph_objects as go\n",
    "from plotly.subplots import make_subplots\n",
    "import joblib"
   ]
  },
  {
   "cell_type": "markdown",
   "id": "376eea21",
   "metadata": {},
   "source": [
    "## Load Data and Model"
   ]
  },
  {
   "cell_type": "code",
   "execution_count": null,
   "id": "240b788c",
   "metadata": {},
   "outputs": [],
   "source": [
    "# Load the cleaned data\n",
    "df = pd.read_csv('../data/transformed.csv')\n",
    "\n",
    "# Load the trained model\n",
    "model = joblib.load('../models/survival_predictor.pkl')\n",
    "\n",
    "print(\"Data and model loaded successfully!\")\n",
    "print(f\"Dataset shape: {df.shape}\")"
   ]
  },
  {
   "cell_type": "markdown",
   "id": "7d3ee12f",
   "metadata": {},
   "source": [
    "## 1. Survival Rate Analysis by Demographics"
   ]
  },
  {
   "cell_type": "code",
   "execution_count": null,
   "id": "195795bb",
   "metadata": {},
   "outputs": [],
   "source": [
    "# Create survival rate by age group and gender\n",
    "survival_by_age_gender = df.groupby(['age_group', 'gender'])['survived'].mean().reset_index()\n",
    "\n",
    "# Create an interactive bar plot\n",
    "fig = px.bar(survival_by_age_gender,\n",
    "             x='age_group',\n",
    "             y='survived',\n",
    "             color='gender',\n",
    "             barmode='group',\n",
    "             title='Survival Rate by Age Group and Gender',\n",
    "             labels={'survived': 'Survival Rate', 'age_group': 'Age Group'})\n",
    "\n",
    "fig.show()"
   ]
  },
  {
   "cell_type": "markdown",
   "id": "790a8d96",
   "metadata": {},
   "source": [
    "## 2. Treatment Effectiveness Analysis"
   ]
  },
  {
   "cell_type": "code",
   "execution_count": null,
   "id": "177e97a4",
   "metadata": {},
   "outputs": [],
   "source": [
    "# Calculate survival rates by treatment type and cancer stage\n",
    "treatment_effectiveness = df.groupby(['treatment_type', 'cancer_stage'])['survived'].agg(['mean', 'count']).reset_index()\n",
    "treatment_effectiveness.columns = ['treatment_type', 'cancer_stage', 'survival_rate', 'patient_count']\n",
    "\n",
    "# Create bubble chart\n",
    "fig = px.scatter(treatment_effectiveness,\n",
    "                x='cancer_stage',\n",
    "                y='survival_rate',\n",
    "                size='patient_count',\n",
    "                color='treatment_type',\n",
    "                title='Treatment Effectiveness by Cancer Stage',\n",
    "                labels={'survival_rate': 'Survival Rate'},\n",
    "                hover_data=['patient_count'])\n",
    "\n",
    "fig.show()"
   ]
  },
  {
   "cell_type": "markdown",
   "id": "9b31cc7e",
   "metadata": {},
   "source": [
    "## 3. Risk Factor Analysis"
   ]
  },
  {
   "cell_type": "code",
   "execution_count": null,
   "id": "5cc699c7",
   "metadata": {},
   "outputs": [],
   "source": [
    "# Create a correlation matrix for numerical features\n",
    "numerical_cols = ['treatment_duration', 'comorbidities_count']\n",
    "correlation_matrix = df[numerical_cols + ['survived']].corr()\n",
    "\n",
    "# Create heatmap\n",
    "fig = px.imshow(correlation_matrix,\n",
    "                title='Correlation Heatmap of Risk Factors',\n",
    "                color_continuous_scale='RdBu')\n",
    "\n",
    "fig.show()"
   ]
  },
  {
   "cell_type": "markdown",
   "id": "c84ff044",
   "metadata": {},
   "source": [
    "## 4. Survival Prediction Dashboard"
   ]
  },
  {
   "cell_type": "code",
   "execution_count": null,
   "id": "11fe143e",
   "metadata": {},
   "outputs": [],
   "source": [
    "from ipywidgets import widgets\n",
    "from IPython.display import display\n",
    "\n",
    "# Create input widgets\n",
    "age_group = widgets.Dropdown(\n",
    "    options=df['age_group'].unique(),\n",
    "    description='Age Group:'\n",
    ")\n",
    "\n",
    "gender = widgets.Dropdown(\n",
    "    options=df['gender'].unique(),\n",
    "    description='Gender:'\n",
    ")\n",
    "\n",
    "cancer_stage = widgets.Dropdown(\n",
    "    options=df['cancer_stage'].unique(),\n",
    "    description='Stage:'\n",
    ")\n",
    "\n",
    "# Display widgets\n",
    "display(age_group, gender, cancer_stage)\n",
    "\n",
    "# Add prediction button and output\n",
    "button = widgets.Button(description='Predict Survival')\n",
    "output = widgets.Output()\n",
    "\n",
    "display(button, output)\n",
    "\n",
    "def on_button_clicked(b):\n",
    "    with output:\n",
    "        # Create a sample input based on widget values\n",
    "        sample_input = pd.DataFrame({\n",
    "            'age_group': [age_group.value],\n",
    "            'gender': [gender.value],\n",
    "            'cancer_stage': [cancer_stage.value]\n",
    "        })\n",
    "        \n",
    "        # Make prediction\n",
    "        prediction = model.predict_proba(sample_input)[0]\n",
    "        \n",
    "        print(f\"Survival Probability: {prediction[1]:.2%}\")\n",
    "\n",
    "button.on_click(on_button_clicked)"
   ]
  }
 ],
 "metadata": {
  "language_info": {
   "name": "python"
  }
 },
 "nbformat": 4,
 "nbformat_minor": 5
}

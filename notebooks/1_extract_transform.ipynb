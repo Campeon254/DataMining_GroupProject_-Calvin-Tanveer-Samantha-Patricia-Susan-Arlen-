version https://git-lfs.github.com/spec/v1
oid sha256:05c276f816caeb58694ed5ab0e6c9e17834e9b2b12a80c928f01732c2c15810f
size 113457
